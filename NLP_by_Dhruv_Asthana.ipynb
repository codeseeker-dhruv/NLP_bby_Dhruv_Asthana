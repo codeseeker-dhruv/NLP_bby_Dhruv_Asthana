{
  "cells": [
    {
      "cell_type": "markdown",
      "source": [
        "# NATURAL LANGUAGE PROCESS\n",
        "\n",
        "NLP enables computers and digital devices to recognize, understand and generate text and speech by combining computational linguistics—the rule-based modeling of human language—together with statistical modeling, machine learning and deep learning. [source](https://www.ibm.com/topics/natural-language-processing)"
      ],
      "metadata": {
        "id": "gKJH7eg692MA"
      }
    },
    {
      "cell_type": "markdown",
      "source": [],
      "metadata": {
        "id": "StjU7Q8M-FCg"
      }
    },
    {
      "cell_type": "markdown",
      "metadata": {
        "id": "KwG4JQhz9ojf"
      },
      "source": [
        "## TOKENIZATION\n",
        "\n",
        "Tokenization is a term that describes breaking a document or body of text into small units called tokens.[source](https://www.coursera.org/articles/tokenization-nlp#:~:text=Tokenization%20is%20a%20term%20that,machine%20to%20process%20the%20text.)"
      ]
    },
    {
      "cell_type": "code",
      "execution_count": null,
      "metadata": {
        "colab": {
          "base_uri": "https://localhost:8080/"
        },
        "id": "M2d_bDC65a1-",
        "outputId": "6ad4c2ab-be2b-41d7-b937-50497b028641"
      },
      "outputs": [
        {
          "name": "stdout",
          "output_type": "stream",
          "text": [
            "Requirement already satisfied: nltk in /usr/local/lib/python3.10/dist-packages (3.8.1)\n",
            "Requirement already satisfied: click in /usr/local/lib/python3.10/dist-packages (from nltk) (8.1.7)\n",
            "Requirement already satisfied: joblib in /usr/local/lib/python3.10/dist-packages (from nltk) (1.4.2)\n",
            "Requirement already satisfied: regex>=2021.8.3 in /usr/local/lib/python3.10/dist-packages (from nltk) (2024.9.11)\n",
            "Requirement already satisfied: tqdm in /usr/local/lib/python3.10/dist-packages (from nltk) (4.66.5)\n"
          ]
        }
      ],
      "source": [
        "!pip install nltk\n",
        "import nltk"
      ]
    },
    {
      "cell_type": "code",
      "execution_count": null,
      "metadata": {
        "colab": {
          "base_uri": "https://localhost:8080/"
        },
        "id": "ukeSimhk7j7h",
        "outputId": "406d0147-f4fb-4961-ffb2-4c5337b8270b"
      },
      "outputs": [
        {
          "name": "stderr",
          "output_type": "stream",
          "text": [
            "[nltk_data] Downloading package punkt to /root/nltk_data...\n",
            "[nltk_data]   Package punkt is already up-to-date!\n"
          ]
        },
        {
          "data": {
            "text/plain": [
              "True"
            ]
          },
          "execution_count": 75,
          "metadata": {},
          "output_type": "execute_result"
        }
      ],
      "source": [
        "nltk.download('punkt')"
      ]
    },
    {
      "cell_type": "code",
      "execution_count": null,
      "metadata": {
        "id": "NgGyF89F5uuD"
      },
      "outputs": [],
      "source": [
        "corpus=\"\"\" Hello, Welcome to Dhruv's Tokenization NLP Tutorials.\n",
        "Please do watch the whole code to understand NLP.\n",
        "\"\"\""
      ]
    },
    {
      "cell_type": "code",
      "execution_count": null,
      "metadata": {
        "colab": {
          "base_uri": "https://localhost:8080/"
        },
        "id": "6-bstmBB5w2-",
        "outputId": "656f5edf-f40f-45f9-f05a-b3339c9ebcc3"
      },
      "outputs": [
        {
          "name": "stdout",
          "output_type": "stream",
          "text": [
            " Hello, Welcome to Dhruv's Tokenization NLP Tutorials.\n",
            "Please do watch the whole code to understand NLP.\n",
            "\n"
          ]
        }
      ],
      "source": [
        "print(corpus)"
      ]
    },
    {
      "cell_type": "code",
      "execution_count": null,
      "metadata": {
        "id": "ZVjnhOVY5w5M"
      },
      "outputs": [],
      "source": [
        "##Tokenization\n",
        "##Sentence --> Paragraph\n",
        "from nltk.tokenize import sent_tokenize"
      ]
    },
    {
      "cell_type": "code",
      "execution_count": null,
      "metadata": {
        "id": "lbKnxi4K5w7e"
      },
      "outputs": [],
      "source": [
        "documents = sent_tokenize(corpus)"
      ]
    },
    {
      "cell_type": "code",
      "execution_count": null,
      "metadata": {
        "id": "fQxVD-YB5w--"
      },
      "outputs": [],
      "source": [
        "##Tokenization\n",
        "##Paragraph -->words\n",
        "##sentece --> words\n",
        "from nltk.tokenize import word_tokenize"
      ]
    },
    {
      "cell_type": "code",
      "execution_count": null,
      "metadata": {
        "colab": {
          "base_uri": "https://localhost:8080/"
        },
        "id": "xvogbMST8Z7V",
        "outputId": "7cd3eef6-8c74-48f2-e242-ffd5e0de35d4"
      },
      "outputs": [
        {
          "data": {
            "text/plain": [
              "['Hello',\n",
              " ',',\n",
              " 'Welcome',\n",
              " 'to',\n",
              " 'Dhruv',\n",
              " \"'s\",\n",
              " 'Tokenization',\n",
              " 'NLP',\n",
              " 'Tutorials',\n",
              " '.',\n",
              " 'Please',\n",
              " 'do',\n",
              " 'watch',\n",
              " 'the',\n",
              " 'whole',\n",
              " 'code',\n",
              " 'to',\n",
              " 'understand',\n",
              " 'NLP',\n",
              " '.']"
            ]
          },
          "execution_count": 81,
          "metadata": {},
          "output_type": "execute_result"
        }
      ],
      "source": [
        "word_tokenize(corpus)"
      ]
    },
    {
      "cell_type": "code",
      "execution_count": null,
      "metadata": {
        "colab": {
          "base_uri": "https://localhost:8080/"
        },
        "id": "cwi5Et_m8lbC",
        "outputId": "d0f94e65-65fa-4687-cb34-8079abc0eee7"
      },
      "outputs": [
        {
          "name": "stdout",
          "output_type": "stream",
          "text": [
            "['Hello', ',', 'Welcome', 'to', 'Dhruv', \"'s\", 'Tokenization', 'NLP', 'Tutorials', '.']\n",
            "['Please', 'do', 'watch', 'the', 'whole', 'code', 'to', 'understand', 'NLP', '.']\n"
          ]
        }
      ],
      "source": [
        "for sentence in documents:\n",
        "  print(word_tokenize(sentence))"
      ]
    },
    {
      "cell_type": "markdown",
      "metadata": {
        "id": "cjZ4ZOVU9-t1"
      },
      "source": [
        "# **STEMMING**\n",
        "\n",
        "Stemming is the process of producing morphological variants of a root/base word. Stemming programs are commonly referred to as stemming algorithms or stemmers. [source](https://www.geeksforgeeks.org/python-stemming-words-with-nltk/)"
      ]
    },
    {
      "cell_type": "code",
      "execution_count": null,
      "metadata": {
        "id": "Xh9gYdQB9KQo"
      },
      "outputs": [],
      "source": [
        "words = [\"eating\", \"eat\", \"eaten\", \"writing\", \"writes\", \"programming\", \"programs\", \"history\", \"finally\", \"finalized\"]"
      ]
    },
    {
      "cell_type": "markdown",
      "metadata": {
        "id": "BB4qb8e3GUUY"
      },
      "source": [
        "## PorterStemmer"
      ]
    },
    {
      "cell_type": "code",
      "execution_count": null,
      "metadata": {
        "id": "Ee5Q55Qn9KsP"
      },
      "outputs": [],
      "source": [
        "from nltk.stem import PorterStemmer"
      ]
    },
    {
      "cell_type": "code",
      "execution_count": null,
      "metadata": {
        "id": "vVURBaCt9Kvo"
      },
      "outputs": [],
      "source": [
        "stemming = PorterStemmer()"
      ]
    },
    {
      "cell_type": "code",
      "execution_count": null,
      "metadata": {
        "colab": {
          "base_uri": "https://localhost:8080/"
        },
        "id": "X1rOmwUSG3j-",
        "outputId": "0447f9a9-f666-4eb5-9138-cb67bcfc243d"
      },
      "outputs": [
        {
          "name": "stdout",
          "output_type": "stream",
          "text": [
            "eating--->eat\n",
            "eat--->eat\n",
            "eaten--->eaten\n",
            "writing--->write\n",
            "writes--->write\n",
            "programming--->program\n",
            "programs--->program\n",
            "history--->histori\n",
            "finally--->final\n",
            "finalized--->final\n"
          ]
        }
      ],
      "source": [
        "for word in words:\n",
        "  print(word+\"--->\"+stemming.stem(word))"
      ]
    },
    {
      "cell_type": "code",
      "execution_count": null,
      "metadata": {
        "colab": {
          "base_uri": "https://localhost:8080/",
          "height": 35
        },
        "id": "MQu5DQkTG3mm",
        "outputId": "af4105e6-b9ef-45a7-fad9-d92c3485ef04"
      },
      "outputs": [
        {
          "data": {
            "application/vnd.google.colaboratory.intrinsic+json": {
              "type": "string"
            },
            "text/plain": [
              "'congratul'"
            ]
          },
          "execution_count": 87,
          "metadata": {},
          "output_type": "execute_result"
        }
      ],
      "source": [
        "stemming.stem(\"congratulations\")"
      ]
    },
    {
      "cell_type": "markdown",
      "metadata": {
        "id": "bBVNVmkPI5ws"
      },
      "source": [
        "## Regexp Stemmer"
      ]
    },
    {
      "cell_type": "code",
      "execution_count": null,
      "metadata": {
        "id": "GmUGLaqUH_pj"
      },
      "outputs": [],
      "source": [
        "from nltk.stem import RegexpStemmer"
      ]
    },
    {
      "cell_type": "code",
      "execution_count": null,
      "metadata": {
        "id": "Gl_WpD9iH_sF"
      },
      "outputs": [],
      "source": [
        "reg_stemmer = RegexpStemmer('ing$|s$|e$|able$', min=4)"
      ]
    },
    {
      "cell_type": "code",
      "execution_count": null,
      "metadata": {
        "colab": {
          "base_uri": "https://localhost:8080/",
          "height": 35
        },
        "id": "uA2qLL6BH_vT",
        "outputId": "f5ab305b-e753-42f5-cfb7-61d692d66e1a"
      },
      "outputs": [
        {
          "data": {
            "application/vnd.google.colaboratory.intrinsic+json": {
              "type": "string"
            },
            "text/plain": [
              "'eat'"
            ]
          },
          "execution_count": 90,
          "metadata": {},
          "output_type": "execute_result"
        }
      ],
      "source": [
        "reg_stemmer.stem('eating')"
      ]
    },
    {
      "cell_type": "code",
      "execution_count": null,
      "metadata": {
        "colab": {
          "base_uri": "https://localhost:8080/",
          "height": 35
        },
        "id": "teZfaYitG3o0",
        "outputId": "29cb94a7-842e-4994-b35d-6a681d376b66"
      },
      "outputs": [
        {
          "data": {
            "application/vnd.google.colaboratory.intrinsic+json": {
              "type": "string"
            },
            "text/plain": [
              "'ingeat'"
            ]
          },
          "execution_count": 91,
          "metadata": {},
          "output_type": "execute_result"
        }
      ],
      "source": [
        "reg_stemmer.stem('ingeating')"
      ]
    },
    {
      "cell_type": "markdown",
      "metadata": {
        "id": "Ke413D93LKUC"
      },
      "source": [
        "## Snowball Stemmer"
      ]
    },
    {
      "cell_type": "code",
      "execution_count": null,
      "metadata": {
        "id": "2WaRzWl4G3sJ"
      },
      "outputs": [],
      "source": [
        "from nltk.stem import SnowballStemmer"
      ]
    },
    {
      "cell_type": "code",
      "execution_count": null,
      "metadata": {
        "id": "EoTbucduKRT8"
      },
      "outputs": [],
      "source": [
        "snowballsstemmer = SnowballStemmer('english')"
      ]
    },
    {
      "cell_type": "code",
      "execution_count": null,
      "metadata": {
        "colab": {
          "base_uri": "https://localhost:8080/"
        },
        "id": "Ok5FACLbKRWq",
        "outputId": "7d62ab58-c7a4-49db-9590-670a1a96acc2"
      },
      "outputs": [
        {
          "name": "stdout",
          "output_type": "stream",
          "text": [
            "eating--->eat\n",
            "eat--->eat\n",
            "eaten--->eaten\n",
            "writing--->write\n",
            "writes--->write\n",
            "programming--->program\n",
            "programs--->program\n",
            "history--->histori\n",
            "finally--->final\n",
            "finalized--->final\n"
          ]
        }
      ],
      "source": [
        "for word in words:\n",
        "  print(word+\"--->\"+snowballsstemmer.stem(word))"
      ]
    },
    {
      "cell_type": "code",
      "execution_count": null,
      "metadata": {
        "colab": {
          "base_uri": "https://localhost:8080/"
        },
        "id": "-4TO65VCKRZ8",
        "outputId": "ab7a9fbf-ae99-41d2-86a7-eccb4908d35f"
      },
      "outputs": [
        {
          "data": {
            "text/plain": [
              "('fairli', 'sportingli')"
            ]
          },
          "execution_count": 95,
          "metadata": {},
          "output_type": "execute_result"
        }
      ],
      "source": [
        "stemming.stem('fairly'),stemming.stem('sportingly')"
      ]
    },
    {
      "cell_type": "code",
      "execution_count": null,
      "metadata": {
        "colab": {
          "base_uri": "https://localhost:8080/"
        },
        "id": "8I3K-zA6KR3k",
        "outputId": "bc8efd68-a3e4-4424-8049-a89ce57b41a1"
      },
      "outputs": [
        {
          "data": {
            "text/plain": [
              "('fair', 'sport')"
            ]
          },
          "execution_count": 96,
          "metadata": {},
          "output_type": "execute_result"
        }
      ],
      "source": [
        "snowballsstemmer.stem('fairly'),snowballsstemmer.stem('sportingly')"
      ]
    },
    {
      "cell_type": "markdown",
      "metadata": {
        "id": "pTSX3AL2NCd1"
      },
      "source": [
        "# **Lemmatizer**\n",
        "\n",
        "Lemmatization is a fundamental text pre-processing technique widely applied in natural language processing (NLP) and machine learning. Serving a purpose akin to stemming, lemmatization seeks to distill words to their foundational forms. [source](https://www.geeksforgeeks.org/python-lemmatization-with-nltk/?ref=ml_lbp)"
      ]
    },
    {
      "cell_type": "markdown",
      "metadata": {
        "id": "qGFvRmukNUji"
      },
      "source": [
        "## Wordnet Lemmatizer"
      ]
    },
    {
      "cell_type": "code",
      "execution_count": null,
      "metadata": {
        "colab": {
          "base_uri": "https://localhost:8080/"
        },
        "id": "8PudjZBEOPRQ",
        "outputId": "e3ee2ed0-5dd1-4ee2-ee1c-13362de0a3b3"
      },
      "outputs": [
        {
          "name": "stderr",
          "output_type": "stream",
          "text": [
            "[nltk_data] Downloading package wordnet to /root/nltk_data...\n",
            "[nltk_data]   Package wordnet is already up-to-date!\n"
          ]
        },
        {
          "data": {
            "text/plain": [
              "True"
            ]
          },
          "execution_count": 97,
          "metadata": {},
          "output_type": "execute_result"
        }
      ],
      "source": [
        "#Q&A,chatbots, text summarization\n",
        "nltk.download('wordnet')"
      ]
    },
    {
      "cell_type": "code",
      "execution_count": null,
      "metadata": {
        "id": "eK_GYEgpMnRm"
      },
      "outputs": [],
      "source": [
        "from nltk import WordNetLemmatizer"
      ]
    },
    {
      "cell_type": "code",
      "execution_count": null,
      "metadata": {
        "id": "jRY-h-gkMnU_"
      },
      "outputs": [],
      "source": [
        "lemmatizer = WordNetLemmatizer()"
      ]
    },
    {
      "cell_type": "code",
      "execution_count": null,
      "metadata": {
        "colab": {
          "base_uri": "https://localhost:8080/",
          "height": 35
        },
        "id": "tWC_-ASZN7LC",
        "outputId": "6e01bb89-c325-4af7-daf6-2c5c16d47410"
      },
      "outputs": [
        {
          "data": {
            "application/vnd.google.colaboratory.intrinsic+json": {
              "type": "string"
            },
            "text/plain": [
              "'go'"
            ]
          },
          "execution_count": 100,
          "metadata": {},
          "output_type": "execute_result"
        }
      ],
      "source": [
        "'''\n",
        "POS - NOUN-n\n",
        "POS - VERB-v\n",
        "POS - ADJECTIVE-a\n",
        "POS - ADVERB-r\n",
        "'''\n",
        "\n",
        "lemmatizer.lemmatize(\"going\", pos='v')"
      ]
    },
    {
      "cell_type": "code",
      "execution_count": null,
      "metadata": {
        "id": "lOZPZhG4N7Nd"
      },
      "outputs": [],
      "source": [
        "words = [\"eating\", \"eat\", \"eaten\", \"writing\", \"writes\", \"programming\", \"programs\", \"history\", \"finally\", \"finalized\"]"
      ]
    },
    {
      "cell_type": "code",
      "execution_count": null,
      "metadata": {
        "colab": {
          "base_uri": "https://localhost:8080/"
        },
        "id": "Vwl6PJ2rN7QA",
        "outputId": "4361d6a7-451b-4bdb-dda3-d1e432b80d4f"
      },
      "outputs": [
        {
          "name": "stdout",
          "output_type": "stream",
          "text": [
            "eating--->eating\n",
            "eat--->eat\n",
            "eaten--->eaten\n",
            "writing--->writing\n",
            "writes--->writes\n",
            "programming--->programming\n",
            "programs--->program\n",
            "history--->history\n",
            "finally--->finally\n",
            "finalized--->finalized\n"
          ]
        }
      ],
      "source": [
        "for word in words:\n",
        "  print(word+\"--->\"+lemmatizer.lemmatize(word,pos='n'))"
      ]
    },
    {
      "cell_type": "code",
      "execution_count": null,
      "metadata": {
        "colab": {
          "base_uri": "https://localhost:8080/"
        },
        "id": "hm7URcgSN7Ti",
        "outputId": "6f076e04-ae34-483b-dfa3-cbfb74c82352"
      },
      "outputs": [
        {
          "name": "stdout",
          "output_type": "stream",
          "text": [
            "eating--->eat\n",
            "eat--->eat\n",
            "eaten--->eat\n",
            "writing--->write\n",
            "writes--->write\n",
            "programming--->program\n",
            "programs--->program\n",
            "history--->history\n",
            "finally--->finally\n",
            "finalized--->finalize\n"
          ]
        }
      ],
      "source": [
        "for word in words:\n",
        "  print(word+\"--->\"+lemmatizer.lemmatize(word,pos='v'))"
      ]
    },
    {
      "cell_type": "code",
      "execution_count": null,
      "metadata": {
        "colab": {
          "base_uri": "https://localhost:8080/",
          "height": 35
        },
        "id": "avtuKtxnPq5o",
        "outputId": "42b3a4a1-74e5-4072-a722-a8a0a9271134"
      },
      "outputs": [
        {
          "data": {
            "application/vnd.google.colaboratory.intrinsic+json": {
              "type": "string"
            },
            "text/plain": [
              "'go'"
            ]
          },
          "execution_count": 104,
          "metadata": {},
          "output_type": "execute_result"
        }
      ],
      "source": [
        "lemmatizer.lemmatize('goes')"
      ]
    },
    {
      "cell_type": "code",
      "execution_count": null,
      "metadata": {
        "colab": {
          "base_uri": "https://localhost:8080/"
        },
        "id": "cq8iAzGuPQFa",
        "outputId": "84f0c7e8-28d2-452a-ce35-a284b769e0a7"
      },
      "outputs": [
        {
          "data": {
            "text/plain": [
              "('fairly', 'sportingly')"
            ]
          },
          "execution_count": 105,
          "metadata": {},
          "output_type": "execute_result"
        }
      ],
      "source": [
        "lemmatizer.lemmatize(\"fairly\", pos='v'),lemmatizer.lemmatize(\"sportingly\", pos='v')"
      ]
    },
    {
      "cell_type": "markdown",
      "metadata": {
        "id": "Dv8JqXLbbFH8"
      },
      "source": [
        "# StopWords with NLTK"
      ]
    },
    {
      "cell_type": "code",
      "execution_count": null,
      "metadata": {
        "id": "Nlm0Ul0vPQHq"
      },
      "outputs": [],
      "source": [
        "paragraph =\"\"\"As the late afternoon sun dipped lower in the sky, casting a golden hue over the landscape,\n",
        "              the small village nestled at the foot of the mountains came alive with a quiet, comforting\n",
        "              energy. Children played in the open fields, their laughter carrying on the wind, while\n",
        "              farmers returned from the fields, their faces weathered but content after a long day’s\n",
        "              work. The scent of freshly baked bread wafted from the homes, mingling with the earthy smell\n",
        "              of the soil, damp from the morning’s light rain. Trees, towering and ancient, stood like silent\n",
        "              sentinels watching over the village, their leaves shimmering with the fading light. The sound of\n",
        "              the nearby river, flowing steadily over smooth rocks, added a gentle rhythm to the evening’s symphony.\n",
        "              In the distance, the mountains loomed, their peaks kissed by the last rays of the sun, casting long\n",
        "              shadows over the valley below. The air was cool and crisp, promising a quiet night, with only the\n",
        "              occasional flicker of candlelight visible through the small windows of the cottages. It was a moment\n",
        "              suspended in time, where nature and humanity seemed to exist in perfect harmony, as though the world\n",
        "              had briefly forgotten its rush and chaos, offering instead a fleeting glimpse of serenity.\"\"\""
      ]
    },
    {
      "cell_type": "code",
      "execution_count": null,
      "metadata": {
        "id": "1GUlRMSMPQJx"
      },
      "outputs": [],
      "source": [
        "from nltk.stem import PorterStemmer"
      ]
    },
    {
      "cell_type": "code",
      "execution_count": null,
      "metadata": {
        "id": "tsCLc1iXb-c3"
      },
      "outputs": [],
      "source": [
        "from nltk.corpus import stopwords"
      ]
    },
    {
      "cell_type": "code",
      "execution_count": null,
      "metadata": {
        "colab": {
          "base_uri": "https://localhost:8080/"
        },
        "id": "cgV5ag-Vb-fU",
        "outputId": "3e85c445-ab07-4274-d0e8-caf4b9a34671"
      },
      "outputs": [
        {
          "name": "stderr",
          "output_type": "stream",
          "text": [
            "[nltk_data] Downloading package stopwords to /root/nltk_data...\n",
            "[nltk_data]   Package stopwords is already up-to-date!\n"
          ]
        },
        {
          "data": {
            "text/plain": [
              "True"
            ]
          },
          "execution_count": 109,
          "metadata": {},
          "output_type": "execute_result"
        }
      ],
      "source": [
        "import nltk\n",
        "nltk.download('stopwords')"
      ]
    },
    {
      "cell_type": "code",
      "execution_count": null,
      "metadata": {
        "colab": {
          "base_uri": "https://localhost:8080/"
        },
        "id": "RT-Atft3b-hm",
        "outputId": "bc742cc7-4bce-435b-f71a-8dfb6614788f"
      },
      "outputs": [
        {
          "data": {
            "text/plain": [
              "['i',\n",
              " 'me',\n",
              " 'my',\n",
              " 'myself',\n",
              " 'we',\n",
              " 'our',\n",
              " 'ours',\n",
              " 'ourselves',\n",
              " 'you',\n",
              " \"you're\",\n",
              " \"you've\",\n",
              " \"you'll\",\n",
              " \"you'd\",\n",
              " 'your',\n",
              " 'yours',\n",
              " 'yourself',\n",
              " 'yourselves',\n",
              " 'he',\n",
              " 'him',\n",
              " 'his',\n",
              " 'himself',\n",
              " 'she',\n",
              " \"she's\",\n",
              " 'her',\n",
              " 'hers',\n",
              " 'herself',\n",
              " 'it',\n",
              " \"it's\",\n",
              " 'its',\n",
              " 'itself',\n",
              " 'they',\n",
              " 'them',\n",
              " 'their',\n",
              " 'theirs',\n",
              " 'themselves',\n",
              " 'what',\n",
              " 'which',\n",
              " 'who',\n",
              " 'whom',\n",
              " 'this',\n",
              " 'that',\n",
              " \"that'll\",\n",
              " 'these',\n",
              " 'those',\n",
              " 'am',\n",
              " 'is',\n",
              " 'are',\n",
              " 'was',\n",
              " 'were',\n",
              " 'be',\n",
              " 'been',\n",
              " 'being',\n",
              " 'have',\n",
              " 'has',\n",
              " 'had',\n",
              " 'having',\n",
              " 'do',\n",
              " 'does',\n",
              " 'did',\n",
              " 'doing',\n",
              " 'a',\n",
              " 'an',\n",
              " 'the',\n",
              " 'and',\n",
              " 'but',\n",
              " 'if',\n",
              " 'or',\n",
              " 'because',\n",
              " 'as',\n",
              " 'until',\n",
              " 'while',\n",
              " 'of',\n",
              " 'at',\n",
              " 'by',\n",
              " 'for',\n",
              " 'with',\n",
              " 'about',\n",
              " 'against',\n",
              " 'between',\n",
              " 'into',\n",
              " 'through',\n",
              " 'during',\n",
              " 'before',\n",
              " 'after',\n",
              " 'above',\n",
              " 'below',\n",
              " 'to',\n",
              " 'from',\n",
              " 'up',\n",
              " 'down',\n",
              " 'in',\n",
              " 'out',\n",
              " 'on',\n",
              " 'off',\n",
              " 'over',\n",
              " 'under',\n",
              " 'again',\n",
              " 'further',\n",
              " 'then',\n",
              " 'once',\n",
              " 'here',\n",
              " 'there',\n",
              " 'when',\n",
              " 'where',\n",
              " 'why',\n",
              " 'how',\n",
              " 'all',\n",
              " 'any',\n",
              " 'both',\n",
              " 'each',\n",
              " 'few',\n",
              " 'more',\n",
              " 'most',\n",
              " 'other',\n",
              " 'some',\n",
              " 'such',\n",
              " 'no',\n",
              " 'nor',\n",
              " 'not',\n",
              " 'only',\n",
              " 'own',\n",
              " 'same',\n",
              " 'so',\n",
              " 'than',\n",
              " 'too',\n",
              " 'very',\n",
              " 's',\n",
              " 't',\n",
              " 'can',\n",
              " 'will',\n",
              " 'just',\n",
              " 'don',\n",
              " \"don't\",\n",
              " 'should',\n",
              " \"should've\",\n",
              " 'now',\n",
              " 'd',\n",
              " 'll',\n",
              " 'm',\n",
              " 'o',\n",
              " 're',\n",
              " 've',\n",
              " 'y',\n",
              " 'ain',\n",
              " 'aren',\n",
              " \"aren't\",\n",
              " 'couldn',\n",
              " \"couldn't\",\n",
              " 'didn',\n",
              " \"didn't\",\n",
              " 'doesn',\n",
              " \"doesn't\",\n",
              " 'hadn',\n",
              " \"hadn't\",\n",
              " 'hasn',\n",
              " \"hasn't\",\n",
              " 'haven',\n",
              " \"haven't\",\n",
              " 'isn',\n",
              " \"isn't\",\n",
              " 'ma',\n",
              " 'mightn',\n",
              " \"mightn't\",\n",
              " 'mustn',\n",
              " \"mustn't\",\n",
              " 'needn',\n",
              " \"needn't\",\n",
              " 'shan',\n",
              " \"shan't\",\n",
              " 'shouldn',\n",
              " \"shouldn't\",\n",
              " 'wasn',\n",
              " \"wasn't\",\n",
              " 'weren',\n",
              " \"weren't\",\n",
              " 'won',\n",
              " \"won't\",\n",
              " 'wouldn',\n",
              " \"wouldn't\"]"
            ]
          },
          "execution_count": 110,
          "metadata": {},
          "output_type": "execute_result"
        }
      ],
      "source": [
        "stopwords.words('english')"
      ]
    },
    {
      "cell_type": "code",
      "execution_count": null,
      "metadata": {
        "id": "dyRR8Xgkcz-3"
      },
      "outputs": [],
      "source": [
        "from nltk import PorterStemmer"
      ]
    },
    {
      "cell_type": "code",
      "execution_count": null,
      "metadata": {
        "id": "nie6kNOUc0BQ"
      },
      "outputs": [],
      "source": [
        "stemmer = PorterStemmer()"
      ]
    },
    {
      "cell_type": "code",
      "execution_count": null,
      "metadata": {
        "id": "uXi0RejPc0EJ"
      },
      "outputs": [],
      "source": [
        "sentence = nltk.sent_tokenize(paragraph)"
      ]
    },
    {
      "cell_type": "code",
      "execution_count": null,
      "metadata": {
        "colab": {
          "base_uri": "https://localhost:8080/"
        },
        "id": "qZPYizVQc0G9",
        "outputId": "d1593e82-1473-47fc-c7a7-6ad909afeb81"
      },
      "outputs": [
        {
          "data": {
            "text/plain": [
              "list"
            ]
          },
          "execution_count": 114,
          "metadata": {},
          "output_type": "execute_result"
        }
      ],
      "source": [
        "type(sentence)"
      ]
    },
    {
      "cell_type": "code",
      "execution_count": null,
      "metadata": {
        "id": "juI4YmaFc0KT"
      },
      "outputs": [],
      "source": [
        "##Apply stopwords and filter and than apply stemming\n",
        "for i in range(len(sentence)):\n",
        "  words = nltk.word_tokenize(sentence[i])\n",
        "  words=[stemmer.stem(word) for word in words if word not in set(stopwords.words('english'))]\n",
        "  sentence[i] = ' '.join(words) #converting all the list of the words into senteces\n"
      ]
    },
    {
      "cell_type": "code",
      "execution_count": null,
      "metadata": {
        "colab": {
          "base_uri": "https://localhost:8080/"
        },
        "id": "0-aaa3S3b-k4",
        "outputId": "8b26977e-1460-4fa0-e937-86b755295a2c"
      },
      "outputs": [
        {
          "data": {
            "text/plain": [
              "['as late afternoon sun dip lower sky , cast golden hue landscap , small villag nestl foot mountain came aliv quiet , comfort energi .',\n",
              " 'children play open field , laughter carri wind , farmer return field , face weather content long day ’ work .',\n",
              " 'the scent freshli bake bread waft home , mingl earthi smell soil , damp morn ’ light rain .',\n",
              " 'tree , tower ancient , stood like silent sentinel watch villag , leav shimmer fade light .',\n",
              " 'the sound nearbi river , flow steadili smooth rock , ad gentl rhythm even ’ symphoni .',\n",
              " 'in distanc , mountain loom , peak kiss last ray sun , cast long shadow valley .',\n",
              " 'the air cool crisp , promis quiet night , occasion flicker candlelight visibl small window cottag .',\n",
              " 'it moment suspend time , natur human seem exist perfect harmoni , though world briefli forgotten rush chao , offer instead fleet glimps seren .']"
            ]
          },
          "execution_count": 116,
          "metadata": {},
          "output_type": "execute_result"
        }
      ],
      "source": [
        "sentence"
      ]
    },
    {
      "cell_type": "code",
      "execution_count": null,
      "metadata": {
        "id": "aNOiW_vePQNp"
      },
      "outputs": [],
      "source": [
        "from nltk.stem import SnowballStemmer\n",
        "snowballstemmer = SnowballStemmer('english')"
      ]
    },
    {
      "cell_type": "code",
      "execution_count": null,
      "metadata": {
        "id": "0xTaXcrHjJLv"
      },
      "outputs": [],
      "source": [
        "##Apply stopwords and filter and than apply **SNOWBALL** stemming\n",
        "for i in range(len(sentence)):\n",
        "  words = nltk.word_tokenize(sentence[i])\n",
        "  words=[snowballstemmer.stem(word) for word in words if word not in set(stopwords.words('english'))]\n",
        "  sentence[i] = ' '.join(words) #converting all the list of the words into senteces\n"
      ]
    },
    {
      "cell_type": "code",
      "execution_count": null,
      "metadata": {
        "colab": {
          "base_uri": "https://localhost:8080/"
        },
        "id": "mNm575n7jJOE",
        "outputId": "71304e2c-7f9a-4d57-e3bd-37d3ba88b5cd"
      },
      "outputs": [
        {
          "data": {
            "text/plain": [
              "['late afternoon sun dip lower sky , cast golden hue landscap , small villag nestl foot mountain came aliv quiet , comfort energi .',\n",
              " 'children play open field , laughter carri wind , farmer return field , face weather content long day ’ work .',\n",
              " 'scent fresh bake bread waft home , mingl earthi smell soil , damp morn ’ light rain .',\n",
              " 'tree , tower ancient , stood like silent sentinel watch villag , leav shimmer fade light .',\n",
              " 'sound nearbi river , flow steadili smooth rock , ad gentl rhythm even ’ symphoni .',\n",
              " 'distanc , mountain loom , peak kiss last ray sun , cast long shadow valley .',\n",
              " 'air cool crisp , promi quiet night , occas flicker candlelight visibl small window cottag .',\n",
              " 'moment suspend time , natur human seem exist perfect harmoni , though world briefli forgotten rush chao , offer instead fleet glimp seren .']"
            ]
          },
          "execution_count": 119,
          "metadata": {},
          "output_type": "execute_result"
        }
      ],
      "source": [
        "sentence"
      ]
    },
    {
      "cell_type": "code",
      "execution_count": null,
      "metadata": {
        "id": "mKQ6cRIOjJQj"
      },
      "outputs": [],
      "source": [
        "from nltk import WordNetLemmatizer\n",
        "lemmatizer = WordNetLemmatizer()"
      ]
    },
    {
      "cell_type": "code",
      "execution_count": null,
      "metadata": {
        "id": "fKab2eOwjJS0"
      },
      "outputs": [],
      "source": [
        "##Apply stopwords and filter and than apply **LEMMETIZER**\n",
        "for i in range(len(sentence)):\n",
        "  words = nltk.word_tokenize(sentence[i])\n",
        "  words=[lemmatizer.lemmatize(word, pos='v') for word in words if word not in set(stopwords.words('english'))]\n",
        "  sentence[i] = ' '.join(words) #converting all the list of the words into senteces\n"
      ]
    },
    {
      "cell_type": "code",
      "execution_count": null,
      "metadata": {
        "colab": {
          "base_uri": "https://localhost:8080/"
        },
        "id": "t1UEoQIJlDoU",
        "outputId": "3ce05000-9b16-45d8-bd75-4c41c2d75b3f"
      },
      "outputs": [
        {
          "data": {
            "text/plain": [
              "['late afternoon sun dip lower sky , cast golden hue landscap , small villag nestl foot mountain come aliv quiet , comfort energi .',\n",
              " 'children play open field , laughter carri wind , farmer return field , face weather content long day ’ work .',\n",
              " 'scent fresh bake bread waft home , mingl earthi smell soil , damp morn ’ light rain .',\n",
              " 'tree , tower ancient , stand like silent sentinel watch villag , leav shimmer fade light .',\n",
              " 'sound nearbi river , flow steadili smooth rock , ad gentl rhythm even ’ symphoni .',\n",
              " 'distanc , mountain loom , peak kiss last ray sun , cast long shadow valley .',\n",
              " 'air cool crisp , promi quiet night , occas flicker candlelight visibl small window cottag .',\n",
              " 'moment suspend time , natur human seem exist perfect harmoni , though world briefli forget rush chao , offer instead fleet glimp seren .']"
            ]
          },
          "execution_count": 122,
          "metadata": {},
          "output_type": "execute_result"
        }
      ],
      "source": [
        "sentence"
      ]
    },
    {
      "cell_type": "markdown",
      "metadata": {
        "id": "ohfdbq-7l1qI"
      },
      "source": [
        "# Part of Speech Tags\n",
        "\n",
        "Parts of Speech tagging is a linguistic activity in Natural Language Processing (NLP) wherein each word in a document is given a particular part of speech (adverb, adjective, verb, etc.) or grammatical category. [source](https://www.geeksforgeeks.org/nlp-part-of-speech-default-tagging/)"
      ]
    },
    {
      "cell_type": "code",
      "execution_count": null,
      "metadata": {
        "id": "14lAaos7lDrt"
      },
      "outputs": [],
      "source": [
        "paragraph =\"\"\"As the late afternoon sun dipped lower in the sky, casting a golden hue over the landscape,\n",
        "              the small village nestled at the foot of the mountains came alive with a quiet, comforting\n",
        "              energy. Children played in the open fields, their laughter carrying on the wind, while\n",
        "              farmers returned from the fields, their faces weathered but content after a long day’s\n",
        "              work. The scent of freshly baked bread wafted from the homes, mingling with the earthy smell\n",
        "              of the soil, damp from the morning’s light rain. Trees, towering and ancient, stood like silent\n",
        "              sentinels watching over the village, their leaves shimmering with the fading light. The sound of\n",
        "              the nearby river, flowing steadily over smooth rocks, added a gentle rhythm to the evening’s symphony.\n",
        "              In the distance, the mountains loomed, their peaks kissed by the last rays of the sun, casting long\n",
        "              shadows over the valley below. The air was cool and crisp, promising a quiet night, with only the\n",
        "              occasional flicker of candlelight visible through the small windows of the cottages. It was a moment\n",
        "              suspended in time, where nature and humanity seemed to exist in perfect harmony, as though the world\n",
        "              had briefly forgotten its rush and chaos, offering instead a fleeting glimpse of serenity.\"\"\""
      ]
    },
    {
      "cell_type": "code",
      "execution_count": null,
      "metadata": {
        "id": "KTKdUKcejJWO"
      },
      "outputs": [],
      "source": [
        "import nltk\n",
        "sentence = nltk.sent_tokenize(paragraph)\n",
        "from nltk.corpus import stopwords"
      ]
    },
    {
      "cell_type": "code",
      "execution_count": null,
      "metadata": {
        "colab": {
          "base_uri": "https://localhost:8080/"
        },
        "id": "onsCWPLD0NFv",
        "outputId": "9f5eaa1f-df5d-46db-fe6b-b0c71fde9427"
      },
      "outputs": [
        {
          "data": {
            "text/plain": [
              "['As the late afternoon sun dipped lower in the sky, casting a golden hue over the landscape,\\n              the small village nestled at the foot of the mountains came alive with a quiet, comforting\\n              energy.',\n",
              " 'Children played in the open fields, their laughter carrying on the wind, while\\n              farmers returned from the fields, their faces weathered but content after a long day’s\\n              work.',\n",
              " 'The scent of freshly baked bread wafted from the homes, mingling with the earthy smell\\n              of the soil, damp from the morning’s light rain.',\n",
              " 'Trees, towering and ancient, stood like silent\\n              sentinels watching over the village, their leaves shimmering with the fading light.',\n",
              " 'The sound of\\n              the nearby river, flowing steadily over smooth rocks, added a gentle rhythm to the evening’s symphony.',\n",
              " 'In the distance, the mountains loomed, their peaks kissed by the last rays of the sun, casting long\\n              shadows over the valley below.',\n",
              " 'The air was cool and crisp, promising a quiet night, with only the\\n              occasional flicker of candlelight visible through the small windows of the cottages.',\n",
              " 'It was a moment\\n              suspended in time, where nature and humanity seemed to exist in perfect harmony, as though the world\\n              had briefly forgotten its rush and chaos, offering instead a fleeting glimpse of serenity.']"
            ]
          },
          "execution_count": 125,
          "metadata": {},
          "output_type": "execute_result"
        }
      ],
      "source": [
        "sentence"
      ]
    },
    {
      "cell_type": "code",
      "execution_count": null,
      "metadata": {
        "id": "oVDTbeQQ1BWs"
      },
      "outputs": [],
      "source": [
        "##We will find out postTAg"
      ]
    },
    {
      "cell_type": "code",
      "execution_count": null,
      "metadata": {
        "colab": {
          "base_uri": "https://localhost:8080/"
        },
        "id": "xqLfAxbB2dVr",
        "outputId": "b0f7850f-b11d-4c49-84d3-71d915a24f4f"
      },
      "outputs": [
        {
          "name": "stderr",
          "output_type": "stream",
          "text": [
            "[nltk_data] Downloading package punkt to /root/nltk_data...\n",
            "[nltk_data]   Package punkt is already up-to-date!\n",
            "[nltk_data] Downloading package stopwords to /root/nltk_data...\n",
            "[nltk_data]   Package stopwords is already up-to-date!\n",
            "[nltk_data] Downloading package averaged_perceptron_tagger to\n",
            "[nltk_data]     /root/nltk_data...\n",
            "[nltk_data]   Package averaged_perceptron_tagger is already up-to-\n",
            "[nltk_data]       date!\n"
          ]
        },
        {
          "data": {
            "text/plain": [
              "True"
            ]
          },
          "execution_count": 127,
          "metadata": {},
          "output_type": "execute_result"
        }
      ],
      "source": [
        "nltk.download('punkt')\n",
        "nltk.download('stopwords')\n",
        "nltk.download('averaged_perceptron_tagger')"
      ]
    },
    {
      "cell_type": "code",
      "execution_count": null,
      "metadata": {
        "colab": {
          "base_uri": "https://localhost:8080/"
        },
        "id": "QyvYPFv51BY9",
        "outputId": "004a2b42-d918-4370-94f2-6a7927634316"
      },
      "outputs": [
        {
          "name": "stdout",
          "output_type": "stream",
          "text": [
            "[('As', 'IN'), ('late', 'JJ'), ('afternoon', 'NN'), ('sun', 'NN'), ('dipped', 'VBD'), ('lower', 'JJR'), ('sky', 'NN'), (',', ','), ('casting', 'VBG'), ('golden', 'JJ'), ('hue', 'NN'), ('landscape', 'NN'), (',', ','), ('small', 'JJ'), ('village', 'NN'), ('nestled', 'JJ'), ('foot', 'NN'), ('mountains', 'NNS'), ('came', 'VBD'), ('alive', 'JJ'), ('quiet', 'JJ'), (',', ','), ('comforting', 'VBG'), ('energy', 'NN'), ('.', '.')]\n",
            "[('Children', 'NNP'), ('played', 'VBD'), ('open', 'JJ'), ('fields', 'NNS'), (',', ','), ('laughter', 'NN'), ('carrying', 'VBG'), ('wind', 'NN'), (',', ','), ('farmers', 'NNS'), ('returned', 'VBD'), ('fields', 'NNS'), (',', ','), ('faces', 'VBZ'), ('weathered', 'JJ'), ('content', 'NN'), ('long', 'RB'), ('day', 'NN'), ('’', 'NNP'), ('work', 'NN'), ('.', '.')]\n",
            "[('The', 'DT'), ('scent', 'NN'), ('freshly', 'RB'), ('baked', 'VBN'), ('bread', 'NN'), ('wafted', 'VBN'), ('homes', 'NNS'), (',', ','), ('mingling', 'VBG'), ('earthy', 'JJ'), ('smell', 'NN'), ('soil', 'NN'), (',', ','), ('damp', 'JJ'), ('morning', 'NN'), ('’', 'NN'), ('light', 'NN'), ('rain', 'NN'), ('.', '.')]\n",
            "[('Trees', 'NNS'), (',', ','), ('towering', 'VBG'), ('ancient', 'NN'), (',', ','), ('stood', 'VBD'), ('like', 'IN'), ('silent', 'JJ'), ('sentinels', 'NNS'), ('watching', 'VBG'), ('village', 'NN'), (',', ','), ('leaves', 'VBZ'), ('shimmering', 'VBG'), ('fading', 'VBG'), ('light', 'NN'), ('.', '.')]\n",
            "[('The', 'DT'), ('sound', 'NN'), ('nearby', 'RB'), ('river', 'NN'), (',', ','), ('flowing', 'VBG'), ('steadily', 'RB'), ('smooth', 'JJ'), ('rocks', 'NNS'), (',', ','), ('added', 'VBD'), ('gentle', 'JJ'), ('rhythm', 'JJ'), ('evening', 'VBG'), ('’', 'JJ'), ('symphony', 'NN'), ('.', '.')]\n",
            "[('In', 'IN'), ('distance', 'NN'), (',', ','), ('mountains', 'NNS'), ('loomed', 'VBD'), (',', ','), ('peaks', 'NNS'), ('kissed', 'VBD'), ('last', 'JJ'), ('rays', 'NNS'), ('sun', 'VBD'), (',', ','), ('casting', 'VBG'), ('long', 'JJ'), ('shadows', 'NNS'), ('valley', 'NN'), ('.', '.')]\n",
            "[('The', 'DT'), ('air', 'NN'), ('cool', 'JJ'), ('crisp', 'NN'), (',', ','), ('promising', 'VBG'), ('quiet', 'JJ'), ('night', 'NN'), (',', ','), ('occasional', 'JJ'), ('flicker', 'NN'), ('candlelight', 'VBD'), ('visible', 'JJ'), ('small', 'JJ'), ('windows', 'NNS'), ('cottages', 'NNS'), ('.', '.')]\n",
            "[('It', 'PRP'), ('moment', 'NN'), ('suspended', 'VBD'), ('time', 'NN'), (',', ','), ('nature', 'JJ'), ('humanity', 'NN'), ('seemed', 'VBD'), ('exist', 'JJ'), ('perfect', 'JJ'), ('harmony', 'NN'), (',', ','), ('though', 'IN'), ('world', 'NN'), ('briefly', 'NN'), ('forgotten', 'VBP'), ('rush', 'JJ'), ('chaos', 'NN'), (',', ','), ('offering', 'VBG'), ('instead', 'RB'), ('fleeting', 'VBG'), ('glimpse', 'NN'), ('serenity', 'NN'), ('.', '.')]\n"
          ]
        }
      ],
      "source": [
        "for i in range(len(sentence)):\n",
        "  words = nltk.word_tokenize(sentence[i])\n",
        "  words = [word for word in words if word not in set(stopwords.words('english'))]\n",
        "  sentence[i] = ''.join(words)\n",
        "  pos_tag = nltk.pos_tag(words)\n",
        "  print(pos_tag)\n",
        "\n"
      ]
    },
    {
      "cell_type": "code",
      "execution_count": null,
      "metadata": {
        "colab": {
          "base_uri": "https://localhost:8080/"
        },
        "id": "FTnOgmv91BbN",
        "outputId": "19caea8a-7ee6-435d-95f0-3ff4709c8fe9"
      },
      "outputs": [
        {
          "data": {
            "text/plain": [
              "['Aslateafternoonsundippedlowersky,castinggoldenhuelandscape,smallvillagenestledfootmountainscamealivequiet,comfortingenergy.',\n",
              " 'Childrenplayedopenfields,laughtercarryingwind,farmersreturnedfields,facesweatheredcontentlongday’work.',\n",
              " 'Thescentfreshlybakedbreadwaftedhomes,minglingearthysmellsoil,dampmorning’lightrain.',\n",
              " 'Trees,toweringancient,stoodlikesilentsentinelswatchingvillage,leavesshimmeringfadinglight.',\n",
              " 'Thesoundnearbyriver,flowingsteadilysmoothrocks,addedgentlerhythmevening’symphony.',\n",
              " 'Indistance,mountainsloomed,peakskissedlastrayssun,castinglongshadowsvalley.',\n",
              " 'Theaircoolcrisp,promisingquietnight,occasionalflickercandlelightvisiblesmallwindowscottages.',\n",
              " 'Itmomentsuspendedtime,naturehumanityseemedexistperfectharmony,thoughworldbrieflyforgottenrushchaos,offeringinsteadfleetingglimpseserenity.']"
            ]
          },
          "execution_count": 129,
          "metadata": {},
          "output_type": "execute_result"
        }
      ],
      "source": [
        "sentence"
      ]
    },
    {
      "cell_type": "code",
      "execution_count": null,
      "metadata": {
        "colab": {
          "base_uri": "https://localhost:8080/"
        },
        "id": "UJRY-9Vq1Bes",
        "outputId": "8947f317-c230-4ab8-ba87-0693b754e4f0"
      },
      "outputs": [
        {
          "name": "stdout",
          "output_type": "stream",
          "text": [
            "[('Taj', 'NN')]\n",
            "[('Mahal', 'NN')]\n",
            "[('is', 'VBZ')]\n",
            "[('beautiful', 'NN')]\n",
            "[('monumnet', 'NN')]\n"
          ]
        }
      ],
      "source": [
        "for i in \"Taj Mahal is beautiful monumnet\".split():\n",
        "  print(nltk.pos_tag([i]))"
      ]
    },
    {
      "cell_type": "code",
      "execution_count": null,
      "metadata": {
        "colab": {
          "base_uri": "https://localhost:8080/"
        },
        "id": "HL_4tlJ4fLo-",
        "outputId": "fea04ae8-5179-45fa-b347-d4fe7c8199a2"
      },
      "outputs": [
        {
          "name": "stdout",
          "output_type": "stream",
          "text": [
            "[('Taj', 'NNP'), ('Mahal', 'NNP'), ('is', 'VBZ'), ('a', 'DT'), ('beautiful', 'JJ'), ('Monument', 'NN')]\n"
          ]
        }
      ],
      "source": [
        "print(nltk.pos_tag(\"Taj Mahal is a beautiful Monument\".split()))"
      ]
    },
    {
      "cell_type": "markdown",
      "metadata": {
        "id": "qW-Frq0QgMJW"
      },
      "source": [
        "# Named Entity Recognition\n",
        "\n",
        "Named Entity Recognition (NER) is a technique in natural language processing (NLP) that focuses on identifying and classifying entities. [source](https://www.geeksforgeeks.org/named-entity-recognition/)"
      ]
    },
    {
      "cell_type": "code",
      "execution_count": null,
      "metadata": {
        "id": "zcHZEDPnfLrx"
      },
      "outputs": [],
      "source": [
        "sentence = \"The Eiffel Tower was built from 1887 to 1889 by French EngineerGustave Eiffel, whose company speciallized in building metalframework and structures.\""
      ]
    },
    {
      "cell_type": "code",
      "execution_count": null,
      "metadata": {
        "id": "Z5i-k3iIfLvO"
      },
      "outputs": [],
      "source": [
        "import nltk\n",
        "words = nltk.word_tokenize(sentence)#tokenize hua re"
      ]
    },
    {
      "cell_type": "code",
      "execution_count": null,
      "metadata": {
        "id": "gSEe92tGhQr4"
      },
      "outputs": [],
      "source": [
        "tag_element = nltk.pos_tag(words)#pos tagging hua re"
      ]
    },
    {
      "cell_type": "code",
      "execution_count": null,
      "metadata": {
        "colab": {
          "base_uri": "https://localhost:8080/"
        },
        "id": "BOyNUNUMh9mp",
        "outputId": "f1fa89d8-df59-4a4a-d4d8-178b4cb6040f"
      },
      "outputs": [
        {
          "name": "stderr",
          "output_type": "stream",
          "text": [
            "[nltk_data] Downloading package maxent_ne_chunker to\n",
            "[nltk_data]     /root/nltk_data...\n",
            "[nltk_data]   Package maxent_ne_chunker is already up-to-date!\n"
          ]
        },
        {
          "data": {
            "text/plain": [
              "True"
            ]
          },
          "execution_count": 135,
          "metadata": {},
          "output_type": "execute_result"
        }
      ],
      "source": [
        "nltk.download('maxent_ne_chunker')"
      ]
    },
    {
      "cell_type": "code",
      "execution_count": null,
      "metadata": {
        "colab": {
          "base_uri": "https://localhost:8080/"
        },
        "id": "PTMtG87UiPLt",
        "outputId": "45fb9b18-79ed-44d8-ea60-8e31808cde02"
      },
      "outputs": [
        {
          "name": "stderr",
          "output_type": "stream",
          "text": [
            "[nltk_data] Downloading package words to /root/nltk_data...\n",
            "[nltk_data]   Package words is already up-to-date!\n"
          ]
        },
        {
          "data": {
            "text/plain": [
              "True"
            ]
          },
          "execution_count": 136,
          "metadata": {},
          "output_type": "execute_result"
        }
      ],
      "source": [
        "nltk.download('words')"
      ]
    },
    {
      "cell_type": "code",
      "execution_count": null,
      "metadata": {
        "colab": {
          "base_uri": "https://localhost:8080/"
        },
        "id": "o5SJmVeOhQwv",
        "outputId": "178c681a-9608-4563-d16c-bed47f12232e"
      },
      "outputs": [
        {
          "name": "stdout",
          "output_type": "stream",
          "text": [
            "(S\n",
            "  The/DT\n",
            "  (ORGANIZATION Eiffel/NNP Tower/NNP)\n",
            "  was/VBD\n",
            "  built/VBN\n",
            "  from/IN\n",
            "  1887/CD\n",
            "  to/TO\n",
            "  1889/CD\n",
            "  by/IN\n",
            "  (GPE French/JJ)\n",
            "  (ORGANIZATION EngineerGustave/NNP Eiffel/NNP)\n",
            "  ,/,\n",
            "  whose/WP$\n",
            "  company/NN\n",
            "  speciallized/VBN\n",
            "  in/IN\n",
            "  building/NN\n",
            "  metalframework/NN\n",
            "  and/CC\n",
            "  structures/NNS\n",
            "  ./.)\n"
          ]
        }
      ],
      "source": [
        "print(nltk.ne_chunk(tag_element))\n"
      ]
    },
    {
      "cell_type": "markdown",
      "metadata": {
        "id": "sj0k6FCWP6pS"
      },
      "source": [
        "# Word2Vec Practical Implementation\n",
        "Word2vec is a technique in natural language processing (NLP) for obtaining vector representations of words. These vectors capture information about the meaning of the word based on the surrounding words. [source](https://en.wikipedia.org/wiki/Word2vec#:~:text=Word2vec%20is%20a%20technique%20in,text%20in%20a%20large%20corpus.)"
      ]
    },
    {
      "cell_type": "code",
      "execution_count": null,
      "metadata": {
        "colab": {
          "base_uri": "https://localhost:8080/"
        },
        "id": "Rh8lOtfZpCjP",
        "outputId": "abc1e9a6-fee0-44c1-8ce1-3178d800a828"
      },
      "outputs": [
        {
          "name": "stdout",
          "output_type": "stream",
          "text": [
            "Requirement already satisfied: gensim in /usr/local/lib/python3.10/dist-packages (4.3.3)\n",
            "Requirement already satisfied: numpy<2.0,>=1.18.5 in /usr/local/lib/python3.10/dist-packages (from gensim) (1.26.4)\n",
            "Requirement already satisfied: scipy<1.14.0,>=1.7.0 in /usr/local/lib/python3.10/dist-packages (from gensim) (1.13.1)\n",
            "Requirement already satisfied: smart-open>=1.8.1 in /usr/local/lib/python3.10/dist-packages (from gensim) (7.0.5)\n",
            "Requirement already satisfied: wrapt in /usr/local/lib/python3.10/dist-packages (from smart-open>=1.8.1->gensim) (1.16.0)\n"
          ]
        }
      ],
      "source": [
        "!pip install gensim"
      ]
    },
    {
      "cell_type": "code",
      "execution_count": null,
      "metadata": {
        "id": "f_qxi1XXpCl4"
      },
      "outputs": [],
      "source": [
        "import gensim"
      ]
    },
    {
      "cell_type": "code",
      "execution_count": 17,
      "metadata": {
        "id": "NT-yP9tQpCou"
      },
      "outputs": [],
      "source": [
        "from gensim.models import Word2Vec, KeyedVectors"
      ]
    },
    {
      "cell_type": "code",
      "execution_count": null,
      "metadata": {
        "colab": {
          "base_uri": "https://localhost:8080/"
        },
        "id": "6CGb2VONpCrD",
        "outputId": "27064329-247c-4e55-ba22-c61395d02d79"
      },
      "outputs": [
        {
          "output_type": "stream",
          "name": "stdout",
          "text": [
            "[=============================================-----] 90.7% 1507.9/1662.8MB downloaded"
          ]
        }
      ],
      "source": [
        "import gensim.downloader as api\n",
        "wv = api.load('word2vec-google-news-300')\n",
        "vec_king = wv['king']"
      ]
    },
    {
      "cell_type": "code",
      "execution_count": 10,
      "metadata": {
        "id": "Dtq_YqlhpCtl",
        "colab": {
          "base_uri": "https://localhost:8080/"
        },
        "outputId": "6dbf1240-2629-4e36-d44b-6c4ba9f12e1b"
      },
      "outputs": [
        {
          "output_type": "execute_result",
          "data": {
            "text/plain": [
              "array([ 1.25976562e-01,  2.97851562e-02,  8.60595703e-03,  1.39648438e-01,\n",
              "       -2.56347656e-02, -3.61328125e-02,  1.11816406e-01, -1.98242188e-01,\n",
              "        5.12695312e-02,  3.63281250e-01, -2.42187500e-01, -3.02734375e-01,\n",
              "       -1.77734375e-01, -2.49023438e-02, -1.67968750e-01, -1.69921875e-01,\n",
              "        3.46679688e-02,  5.21850586e-03,  4.63867188e-02,  1.28906250e-01,\n",
              "        1.36718750e-01,  1.12792969e-01,  5.95703125e-02,  1.36718750e-01,\n",
              "        1.01074219e-01, -1.76757812e-01, -2.51953125e-01,  5.98144531e-02,\n",
              "        3.41796875e-01, -3.11279297e-02,  1.04492188e-01,  6.17675781e-02,\n",
              "        1.24511719e-01,  4.00390625e-01, -3.22265625e-01,  8.39843750e-02,\n",
              "        3.90625000e-02,  5.85937500e-03,  7.03125000e-02,  1.72851562e-01,\n",
              "        1.38671875e-01, -2.31445312e-01,  2.83203125e-01,  1.42578125e-01,\n",
              "        3.41796875e-01, -2.39257812e-02, -1.09863281e-01,  3.32031250e-02,\n",
              "       -5.46875000e-02,  1.53198242e-02, -1.62109375e-01,  1.58203125e-01,\n",
              "       -2.59765625e-01,  2.01416016e-02, -1.63085938e-01,  1.35803223e-03,\n",
              "       -1.44531250e-01, -5.68847656e-02,  4.29687500e-02, -2.46582031e-02,\n",
              "        1.85546875e-01,  4.47265625e-01,  9.58251953e-03,  1.31835938e-01,\n",
              "        9.86328125e-02, -1.85546875e-01, -1.00097656e-01, -1.33789062e-01,\n",
              "       -1.25000000e-01,  2.83203125e-01,  1.23046875e-01,  5.32226562e-02,\n",
              "       -1.77734375e-01,  8.59375000e-02, -2.18505859e-02,  2.05078125e-02,\n",
              "       -1.39648438e-01,  2.51464844e-02,  1.38671875e-01, -1.05468750e-01,\n",
              "        1.38671875e-01,  8.88671875e-02, -7.51953125e-02, -2.13623047e-02,\n",
              "        1.72851562e-01,  4.63867188e-02, -2.65625000e-01,  8.91113281e-03,\n",
              "        1.49414062e-01,  3.78417969e-02,  2.38281250e-01, -1.24511719e-01,\n",
              "       -2.17773438e-01, -1.81640625e-01,  2.97851562e-02,  5.71289062e-02,\n",
              "       -2.89306641e-02,  1.24511719e-02,  9.66796875e-02, -2.31445312e-01,\n",
              "        5.81054688e-02,  6.68945312e-02,  7.08007812e-02, -3.08593750e-01,\n",
              "       -2.14843750e-01,  1.45507812e-01, -4.27734375e-01, -9.39941406e-03,\n",
              "        1.54296875e-01, -7.66601562e-02,  2.89062500e-01,  2.77343750e-01,\n",
              "       -4.86373901e-04, -1.36718750e-01,  3.24218750e-01, -2.46093750e-01,\n",
              "       -3.03649902e-03, -2.11914062e-01,  1.25000000e-01,  2.69531250e-01,\n",
              "        2.04101562e-01,  8.25195312e-02, -2.01171875e-01, -1.60156250e-01,\n",
              "       -3.78417969e-02, -1.20117188e-01,  1.15234375e-01, -4.10156250e-02,\n",
              "       -3.95507812e-02, -8.98437500e-02,  6.34765625e-03,  2.03125000e-01,\n",
              "        1.86523438e-01,  2.73437500e-01,  6.29882812e-02,  1.41601562e-01,\n",
              "       -9.81445312e-02,  1.38671875e-01,  1.82617188e-01,  1.73828125e-01,\n",
              "        1.73828125e-01, -2.37304688e-01,  1.78710938e-01,  6.34765625e-02,\n",
              "        2.36328125e-01, -2.08984375e-01,  8.74023438e-02, -1.66015625e-01,\n",
              "       -7.91015625e-02,  2.43164062e-01, -8.88671875e-02,  1.26953125e-01,\n",
              "       -2.16796875e-01, -1.73828125e-01, -3.59375000e-01, -8.25195312e-02,\n",
              "       -6.49414062e-02,  5.07812500e-02,  1.35742188e-01, -7.47070312e-02,\n",
              "       -1.64062500e-01,  1.15356445e-02,  4.45312500e-01, -2.15820312e-01,\n",
              "       -1.11328125e-01, -1.92382812e-01,  1.70898438e-01, -1.25000000e-01,\n",
              "        2.65502930e-03,  1.92382812e-01, -1.74804688e-01,  1.39648438e-01,\n",
              "        2.92968750e-01,  1.13281250e-01,  5.95703125e-02, -6.39648438e-02,\n",
              "        9.96093750e-02, -2.72216797e-02,  1.96533203e-02,  4.27246094e-02,\n",
              "       -2.46093750e-01,  6.39648438e-02, -2.25585938e-01, -1.68945312e-01,\n",
              "        2.89916992e-03,  8.20312500e-02,  3.41796875e-01,  4.32128906e-02,\n",
              "        1.32812500e-01,  1.42578125e-01,  7.61718750e-02,  5.98144531e-02,\n",
              "       -1.19140625e-01,  2.74658203e-03, -6.29882812e-02, -2.72216797e-02,\n",
              "       -4.82177734e-03, -8.20312500e-02, -2.49023438e-02, -4.00390625e-01,\n",
              "       -1.06933594e-01,  4.24804688e-02,  7.76367188e-02, -1.16699219e-01,\n",
              "        7.37304688e-02, -9.22851562e-02,  1.07910156e-01,  1.58203125e-01,\n",
              "        4.24804688e-02,  1.26953125e-01,  3.61328125e-02,  2.67578125e-01,\n",
              "       -1.01074219e-01, -3.02734375e-01, -5.76171875e-02,  5.05371094e-02,\n",
              "        5.26428223e-04, -2.07031250e-01, -1.38671875e-01, -8.97216797e-03,\n",
              "       -2.78320312e-02, -1.41601562e-01,  2.07031250e-01, -1.58203125e-01,\n",
              "        1.27929688e-01,  1.49414062e-01, -2.24609375e-02, -8.44726562e-02,\n",
              "        1.22558594e-01,  2.15820312e-01, -2.13867188e-01, -3.12500000e-01,\n",
              "       -3.73046875e-01,  4.08935547e-03,  1.07421875e-01,  1.06933594e-01,\n",
              "        7.32421875e-02,  8.97216797e-03, -3.88183594e-02, -1.29882812e-01,\n",
              "        1.49414062e-01, -2.14843750e-01, -1.83868408e-03,  9.91210938e-02,\n",
              "        1.57226562e-01, -1.14257812e-01, -2.05078125e-01,  9.91210938e-02,\n",
              "        3.69140625e-01, -1.97265625e-01,  3.54003906e-02,  1.09375000e-01,\n",
              "        1.31835938e-01,  1.66992188e-01,  2.35351562e-01,  1.04980469e-01,\n",
              "       -4.96093750e-01, -1.64062500e-01, -1.56250000e-01, -5.22460938e-02,\n",
              "        1.03027344e-01,  2.43164062e-01, -1.88476562e-01,  5.07812500e-02,\n",
              "       -9.37500000e-02, -6.68945312e-02,  2.27050781e-02,  7.61718750e-02,\n",
              "        2.89062500e-01,  3.10546875e-01, -5.37109375e-02,  2.28515625e-01,\n",
              "        2.51464844e-02,  6.78710938e-02, -1.21093750e-01, -2.15820312e-01,\n",
              "       -2.73437500e-01, -3.07617188e-02, -3.37890625e-01,  1.53320312e-01,\n",
              "        2.33398438e-01, -2.08007812e-01,  3.73046875e-01,  8.20312500e-02,\n",
              "        2.51953125e-01, -7.61718750e-02, -4.66308594e-02, -2.23388672e-02,\n",
              "        2.99072266e-02, -5.93261719e-02, -4.66918945e-03, -2.44140625e-01,\n",
              "       -2.09960938e-01, -2.87109375e-01, -4.54101562e-02, -1.77734375e-01,\n",
              "       -2.79296875e-01, -8.59375000e-02,  9.13085938e-02,  2.51953125e-01],\n",
              "      dtype=float32)"
            ]
          },
          "metadata": {},
          "execution_count": 10
        }
      ],
      "source": [
        "vec_king"
      ]
    },
    {
      "cell_type": "code",
      "source": [
        "vec_king.shape"
      ],
      "metadata": {
        "colab": {
          "base_uri": "https://localhost:8080/"
        },
        "id": "gnHq8F8H7US2",
        "outputId": "32c7f9b3-1600-41bb-aa8a-d7c823197625"
      },
      "execution_count": 14,
      "outputs": [
        {
          "output_type": "execute_result",
          "data": {
            "text/plain": [
              "(300,)"
            ]
          },
          "metadata": {},
          "execution_count": 14
        }
      ]
    },
    {
      "cell_type": "code",
      "source": [
        "wv['cricket']"
      ],
      "metadata": {
        "colab": {
          "base_uri": "https://localhost:8080/"
        },
        "id": "DoUIQ6xf7UVh",
        "outputId": "97d096d8-b2a3-46ae-eb0c-bbd7fe320e68"
      },
      "execution_count": 18,
      "outputs": [
        {
          "output_type": "execute_result",
          "data": {
            "text/plain": [
              "array([-3.67187500e-01, -1.21582031e-01,  2.85156250e-01,  8.15429688e-02,\n",
              "        3.19824219e-02, -3.19824219e-02,  1.34765625e-01, -2.73437500e-01,\n",
              "        9.46044922e-03, -1.07421875e-01,  2.48046875e-01, -6.05468750e-01,\n",
              "        5.02929688e-02,  2.98828125e-01,  9.57031250e-02,  1.39648438e-01,\n",
              "       -5.41992188e-02,  2.91015625e-01,  2.85156250e-01,  1.51367188e-01,\n",
              "       -2.89062500e-01, -3.46679688e-02,  1.81884766e-02, -3.92578125e-01,\n",
              "        2.46093750e-01,  2.51953125e-01, -9.86328125e-02,  3.22265625e-01,\n",
              "        4.49218750e-01, -1.36718750e-01, -2.34375000e-01,  4.12597656e-02,\n",
              "       -2.15820312e-01,  1.69921875e-01,  2.56347656e-02,  1.50146484e-02,\n",
              "       -3.75976562e-02,  6.95800781e-03,  4.00390625e-01,  2.09960938e-01,\n",
              "        1.17675781e-01, -4.19921875e-02,  2.34375000e-01,  2.03125000e-01,\n",
              "       -1.86523438e-01, -2.46093750e-01,  3.12500000e-01, -2.59765625e-01,\n",
              "       -1.06933594e-01,  1.04003906e-01, -1.79687500e-01,  5.71289062e-02,\n",
              "       -7.41577148e-03, -5.59082031e-02,  7.61718750e-02, -4.14062500e-01,\n",
              "       -3.65234375e-01, -3.35937500e-01, -1.54296875e-01, -2.39257812e-01,\n",
              "       -3.73046875e-01,  2.27355957e-03, -3.51562500e-01,  8.64257812e-02,\n",
              "        1.26953125e-01,  2.21679688e-01, -9.86328125e-02,  1.08886719e-01,\n",
              "        3.65234375e-01, -5.66406250e-02,  5.66406250e-02, -1.09375000e-01,\n",
              "       -1.66992188e-01, -4.54101562e-02, -2.00195312e-01, -1.22558594e-01,\n",
              "        1.31835938e-01, -1.31835938e-01,  1.03027344e-01, -3.41796875e-01,\n",
              "       -1.57226562e-01,  2.04101562e-01,  4.39453125e-02,  2.44140625e-01,\n",
              "       -3.19824219e-02,  3.20312500e-01, -4.41894531e-02,  1.08398438e-01,\n",
              "       -4.98046875e-02, -9.52148438e-03,  2.46093750e-01, -5.59082031e-02,\n",
              "        4.07714844e-02, -1.78222656e-02, -2.95410156e-02,  1.65039062e-01,\n",
              "        5.03906250e-01, -2.81250000e-01,  9.81445312e-02,  1.80664062e-02,\n",
              "       -1.83593750e-01,  2.53906250e-01,  2.25585938e-01,  1.63574219e-02,\n",
              "        1.81640625e-01,  1.38671875e-01,  3.33984375e-01,  1.39648438e-01,\n",
              "        1.45874023e-02, -2.89306641e-02, -8.39843750e-02,  1.50390625e-01,\n",
              "        1.67968750e-01,  2.28515625e-01,  3.59375000e-01,  1.22558594e-01,\n",
              "       -3.28125000e-01, -1.56250000e-01,  2.77343750e-01,  1.77001953e-02,\n",
              "       -1.46484375e-01, -4.51660156e-03, -4.46777344e-02,  1.75781250e-01,\n",
              "       -3.75000000e-01,  1.16699219e-01, -1.39648438e-01,  2.55859375e-01,\n",
              "       -1.96289062e-01, -2.57568359e-02, -5.41992188e-02, -2.51464844e-02,\n",
              "       -1.93359375e-01, -3.17382812e-02, -8.74023438e-02, -1.32812500e-01,\n",
              "       -2.12402344e-02,  4.33593750e-01, -5.20019531e-02,  3.46679688e-02,\n",
              "        8.00781250e-02,  3.41796875e-02,  1.99218750e-01, -2.39257812e-02,\n",
              "       -2.37304688e-01,  1.93359375e-01,  7.32421875e-02, -2.87109375e-01,\n",
              "        1.25000000e-01,  8.44726562e-02,  1.30859375e-01, -2.19726562e-01,\n",
              "       -1.61132812e-01, -2.63671875e-01, -5.46875000e-01, -2.96875000e-01,\n",
              "        3.44238281e-02, -2.87109375e-01, -1.93359375e-01, -1.61132812e-01,\n",
              "       -3.84765625e-01, -2.14843750e-01, -6.22558594e-03, -1.27929688e-01,\n",
              "       -1.00097656e-01, -6.21093750e-01,  3.78906250e-01, -4.58984375e-01,\n",
              "        1.44531250e-01, -9.13085938e-02, -3.08593750e-01,  2.23632812e-01,\n",
              "        7.86132812e-02, -2.16796875e-01,  8.78906250e-02, -1.66992188e-01,\n",
              "        1.14746094e-02, -2.53906250e-01, -6.25000000e-02,  6.04248047e-03,\n",
              "        1.56250000e-01,  4.37500000e-01, -2.23632812e-01, -2.32421875e-01,\n",
              "        2.75390625e-01,  2.39257812e-01,  4.49218750e-02, -7.51953125e-02,\n",
              "        5.74218750e-01, -2.61230469e-02, -1.21582031e-01,  2.44140625e-01,\n",
              "       -3.37890625e-01,  8.59375000e-02, -7.71484375e-02,  4.85839844e-02,\n",
              "        1.43554688e-01,  4.25781250e-01, -4.29687500e-02, -1.08398438e-01,\n",
              "        1.19628906e-01, -1.91406250e-01, -2.12890625e-01, -2.87109375e-01,\n",
              "       -1.14746094e-01, -2.04101562e-01, -2.06298828e-02, -2.53906250e-01,\n",
              "        8.25195312e-02, -3.97949219e-02, -1.57226562e-01,  1.34765625e-01,\n",
              "        2.08007812e-01, -1.78710938e-01, -2.00195312e-02, -8.34960938e-02,\n",
              "       -1.20605469e-01,  4.29687500e-02, -1.94335938e-01, -1.32812500e-01,\n",
              "       -2.17285156e-02, -2.35351562e-01, -3.63281250e-01,  1.51367188e-01,\n",
              "        9.32617188e-02,  1.63085938e-01,  1.02050781e-01, -4.27734375e-01,\n",
              "        2.83203125e-01,  2.74658203e-04, -3.20312500e-01,  1.68457031e-02,\n",
              "        4.06250000e-01, -5.24902344e-02,  7.91015625e-02, -1.41601562e-01,\n",
              "        5.27343750e-01, -1.26953125e-01,  4.74609375e-01, -6.64062500e-02,\n",
              "        3.41796875e-01, -1.78710938e-01,  3.69140625e-01, -2.05078125e-01,\n",
              "        5.82885742e-03, -1.84570312e-01, -8.88671875e-02, -1.81640625e-01,\n",
              "       -4.80957031e-02,  4.39453125e-01,  2.12890625e-01, -3.07617188e-02,\n",
              "        9.32617188e-02,  2.40234375e-01,  2.39257812e-01,  2.51953125e-01,\n",
              "       -1.98974609e-02,  1.24511719e-01, -4.73632812e-02, -2.13623047e-02,\n",
              "        3.12500000e-02,  3.05175781e-02,  2.79296875e-01,  9.08203125e-02,\n",
              "       -2.02148438e-01, -2.19726562e-02, -2.63671875e-01,  8.78906250e-02,\n",
              "       -1.07421875e-01, -2.49023438e-01, -1.22070312e-02,  1.73828125e-01,\n",
              "       -9.91210938e-02,  7.27539062e-02,  2.59765625e-01, -4.60937500e-01,\n",
              "        3.59375000e-01, -2.25585938e-01,  1.87988281e-02, -2.19726562e-01,\n",
              "       -2.08984375e-01, -1.51367188e-01,  8.64257812e-02,  1.11694336e-02,\n",
              "        6.93359375e-02, -2.99072266e-02,  1.43554688e-01,  1.89453125e-01,\n",
              "       -1.32812500e-01,  4.72656250e-01, -1.40625000e-01, -2.52685547e-02,\n",
              "        1.91406250e-01, -2.63671875e-01, -1.39648438e-01,  1.09375000e-01,\n",
              "        1.97753906e-02,  2.49023438e-01, -1.42578125e-01,  4.15039062e-02],\n",
              "      dtype=float32)"
            ]
          },
          "metadata": {},
          "execution_count": 18
        }
      ]
    },
    {
      "cell_type": "code",
      "source": [
        "wv.most_similar('cricket')"
      ],
      "metadata": {
        "colab": {
          "base_uri": "https://localhost:8080/"
        },
        "id": "vdk6od-C7xgL",
        "outputId": "8a713da7-d27b-420a-9f97-4f64284121d9"
      },
      "execution_count": 20,
      "outputs": [
        {
          "output_type": "execute_result",
          "data": {
            "text/plain": [
              "[('cricketing', 0.8372225761413574),\n",
              " ('cricketers', 0.8165745735168457),\n",
              " ('Test_cricket', 0.8094819188117981),\n",
              " ('Twenty##_cricket', 0.8068488240242004),\n",
              " ('Twenty##', 0.7624265551567078),\n",
              " ('Cricket', 0.75413978099823),\n",
              " ('cricketer', 0.7372578382492065),\n",
              " ('twenty##', 0.7316356897354126),\n",
              " ('T##_cricket', 0.7304614186286926),\n",
              " ('West_Indies_cricket', 0.6987985968589783)]"
            ]
          },
          "metadata": {},
          "execution_count": 20
        }
      ]
    },
    {
      "cell_type": "code",
      "source": [
        "wv.most_similar('cutie')"
      ],
      "metadata": {
        "colab": {
          "base_uri": "https://localhost:8080/"
        },
        "id": "F9cgMxD67xiq",
        "outputId": "6b487588-2d01-43ab-ede8-b0609b8379c5"
      },
      "execution_count": 23,
      "outputs": [
        {
          "output_type": "execute_result",
          "data": {
            "text/plain": [
              "[('hottie', 0.7584797739982605),\n",
              " ('babe', 0.693034291267395),\n",
              " ('cutie_pie', 0.6432326436042786),\n",
              " ('gal', 0.627162516117096),\n",
              " ('bestie', 0.6264120936393738),\n",
              " ('beau', 0.616774320602417),\n",
              " ('Heroes_hottie', 0.6128145456314087),\n",
              " ('blondie', 0.605380654335022),\n",
              " ('JoBro', 0.6051076054573059),\n",
              " ('heartthrob', 0.598899245262146)]"
            ]
          },
          "metadata": {},
          "execution_count": 23
        }
      ]
    },
    {
      "cell_type": "code",
      "source": [
        "wv.similarity(\"football\", \"sports\")"
      ],
      "metadata": {
        "colab": {
          "base_uri": "https://localhost:8080/"
        },
        "id": "iOUn152a7xl2",
        "outputId": "f12287de-b95e-4f45-a69e-eb373fbd3dc2"
      },
      "execution_count": 26,
      "outputs": [
        {
          "output_type": "execute_result",
          "data": {
            "text/plain": [
              "0.5927178"
            ]
          },
          "metadata": {},
          "execution_count": 26
        }
      ]
    },
    {
      "cell_type": "code",
      "source": [
        "vec=wv['king']-wv['man']+wv['queen']\n",
        "vec"
      ],
      "metadata": {
        "colab": {
          "base_uri": "https://localhost:8080/"
        },
        "id": "6JTpqjc57UY4",
        "outputId": "01ce9135-2e92-438a-ab36-4ad0584da546"
      },
      "execution_count": 27,
      "outputs": [
        {
          "output_type": "execute_result",
          "data": {
            "text/plain": [
              "array([-0.19494629, -0.2446289 , -0.09539795,  0.3461914 ,  0.01635742,\n",
              "       -0.08374023,  0.23876953, -0.42193604, -0.28955078,  0.41699982,\n",
              "       -0.3466797 , -0.43359375,  0.01025391,  0.1256485 ,  0.06689453,\n",
              "       -0.09790039,  0.20507812, -0.10098267,  0.08251953,  0.32373047,\n",
              "        0.4580078 ,  0.24821472, -0.20288086,  0.28955078,  0.10253906,\n",
              "       -0.03857422, -0.48242188, -0.1081543 ,  0.15527344, -0.15270996,\n",
              "       -0.21386719, -0.20581055,  0.10595703,  0.63391113, -0.5810547 ,\n",
              "       -0.3017578 , -0.11279297,  0.39648438, -0.09619141,  0.03613281,\n",
              "        0.21411133, -0.6088867 ,  0.3408203 ,  0.12298584,  0.29492188,\n",
              "       -0.00195312, -0.03781128,  0.16821289,  0.15332031,  0.24481201,\n",
              "       -0.04626465,  0.13183594, -0.2626953 ,  0.17150879, -0.40771484,\n",
              "        0.02772522, -0.41064453, -0.1862793 ,  0.07617188, -0.10406494,\n",
              "        0.14550781,  0.41992188,  0.00299072,  0.2758789 ,  0.18359375,\n",
              "       -0.39794922, -0.07757568,  0.12207031, -0.43115234,  0.42651367,\n",
              "        0.19873047,  0.12451172, -0.11230469,  0.17626953, -0.01159668,\n",
              "        0.02636719,  0.0045166 ,  0.12103271,  0.25024414, -0.10375977,\n",
              "       -0.22241211,  0.20141602,  0.07495117,  0.09777832,  0.33374023,\n",
              "        0.09814453, -0.25585938,  0.1706543 ,  0.2763672 ,  0.19750977,\n",
              "        0.71972656, -0.33666992, -0.31237793, -0.19604492,  0.10693359,\n",
              "        0.13174438,  0.18054199, -0.11962891,  0.18017578, -0.07363892,\n",
              "        0.15930176,  0.06005859,  0.09033203, -0.4345703 , -0.8984375 ,\n",
              "        0.38330078, -1.2109375 , -0.08891869,  0.09545898, -0.06201172,\n",
              "        0.49536133,  0.37646484,  0.13684273,  0.02380371,  0.5290375 ,\n",
              "       -0.2911377 ,  0.24842834, -0.46166992,  0.28970337,  0.25976562,\n",
              "        0.2421875 , -0.01977539,  0.05554199, -0.30078125,  0.32739258,\n",
              "       -0.03179932,  0.00317383,  0.13049316, -0.18139648, -0.01977539,\n",
              "        0.1665039 ,  0.6689453 ,  0.2849121 ,  0.7918091 ,  0.17456055,\n",
              "        0.3703003 , -0.296875  ,  0.14477539,  0.4326172 , -0.11181641,\n",
              "        0.        , -0.55566406,  0.0949707 , -0.18017578,  0.45263672,\n",
              "       -0.35424805,  0.18621063,  0.078125  , -0.08984375,  0.1776123 ,\n",
              "       -0.20727539,  0.4658203 , -0.03369141, -0.35888672, -0.61499023,\n",
              "       -0.50146484, -0.14404297,  0.06420898,  0.203125  ,  0.07177734,\n",
              "       -0.04443359,  0.17779541,  0.671875  , -0.20980835, -0.10693359,\n",
              "       -0.11376953,  0.04785156, -0.36035156, -0.12527466,  0.45581055,\n",
              "       -0.3852539 ,  0.2265625 ,  0.75097656,  0.33666992,  0.04101562,\n",
              "       -0.24145508,  0.05441284,  0.01965332,  0.15539551,  0.20672607,\n",
              "       -0.5917969 ,  0.26782227, -0.3260498 , -0.09130859,  0.36813354,\n",
              "       -0.03271484,  0.46044922, -0.15942383, -0.05175781,  0.5161133 ,\n",
              "        0.03143311, -0.14526367, -0.22912598, -0.1359253 ,  0.04772949,\n",
              "        0.23498535,  0.253479  ,  0.09130859, -0.00244141, -0.6455078 ,\n",
              "       -0.01029968,  0.04199219,  0.1784668 , -0.16748047,  0.14709473,\n",
              "       -0.08544922,  0.09863281,  0.3203125 ,  0.16235352,  0.69433594,\n",
              "        0.16601562,  0.4189453 , -0.20898438, -0.60961914,  0.29589844,\n",
              "        0.18893433, -0.06026459, -0.5415039 ,  0.3154297 , -0.0524292 ,\n",
              "       -0.02124023,  0.08911133,  0.27929688, -0.08407593, -0.03991699,\n",
              "        0.14732361, -0.13769531, -0.27539062,  0.34960938,  0.5390625 ,\n",
              "       -0.53222656, -0.38671875, -0.7158203 , -0.07012939,  0.58154297,\n",
              "        0.0534668 ,  0.18041992, -0.05344391, -0.07360077, -0.27856445,\n",
              "        0.2705078 , -0.45715332,  0.33312225,  0.18591309,  0.2952881 ,\n",
              "       -0.11993408, -0.33935547,  0.18798828,  0.4724121 , -0.38793945,\n",
              "       -0.05688477,  0.05825806,  0.37597656,  0.2446289 ,  0.22070312,\n",
              "        0.07128906, -0.76660156, -0.17041016, -0.3251953 , -0.10241699,\n",
              "        0.09667969,  0.69140625, -0.4482422 ,  0.09375   , -0.30639648,\n",
              "       -0.21826172,  0.09838867,  0.3125    ,  0.7363281 ,  0.6699219 ,\n",
              "       -0.19726562,  0.45031738,  0.17822266,  0.23828125,  0.05743408,\n",
              "       -0.7109375 , -0.22753906,  0.07177734, -0.2919922 ,  0.46923828,\n",
              "        0.23339844, -0.17578125,  0.5415039 , -0.30444336,  0.5500488 ,\n",
              "       -0.26391602, -0.06567383, -0.0135498 , -0.04788208, -0.0534668 ,\n",
              "       -0.16455078, -0.43847656, -0.38671875, -0.5341797 , -0.02734375,\n",
              "       -0.1550293 , -0.02783203,  0.16992188,  0.33447266,  0.3852539 ],\n",
              "      dtype=float32)"
            ]
          },
          "metadata": {},
          "execution_count": 27
        }
      ]
    },
    {
      "cell_type": "code",
      "source": [
        "wv.most_similar([vec])"
      ],
      "metadata": {
        "colab": {
          "base_uri": "https://localhost:8080/"
        },
        "id": "Cprs9Nr29LOf",
        "outputId": "16d569fd-8265-4e18-f1fd-380ba6f135bc"
      },
      "execution_count": 29,
      "outputs": [
        {
          "output_type": "execute_result",
          "data": {
            "text/plain": [
              "[('queen', 0.8422122001647949),\n",
              " ('king', 0.8070623278617859),\n",
              " ('queens', 0.6293326020240784),\n",
              " ('monarch', 0.6233264207839966),\n",
              " ('kings', 0.599048376083374),\n",
              " ('princess', 0.5685814619064331),\n",
              " ('royal', 0.55137038230896),\n",
              " ('princes', 0.5398682951927185),\n",
              " ('NYC_anglophiles_aflutter', 0.5370354652404785),\n",
              " ('Queen_Consort', 0.5246095061302185)]"
            ]
          },
          "metadata": {},
          "execution_count": 29
        }
      ]
    },
    {
      "cell_type": "code",
      "source": [],
      "metadata": {
        "id": "GZMxy-9K9LR0"
      },
      "execution_count": null,
      "outputs": []
    }
  ],
  "metadata": {
    "colab": {
      "provenance": []
    },
    "kernelspec": {
      "display_name": "Python 3",
      "name": "python3"
    },
    "language_info": {
      "name": "python"
    }
  },
  "nbformat": 4,
  "nbformat_minor": 0
}